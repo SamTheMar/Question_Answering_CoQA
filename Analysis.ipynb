{
 "cells": [
  {
   "cell_type": "code",
   "execution_count": null,
   "metadata": {},
   "outputs": [],
   "source": [
    "import json\n",
    "import numpy as np\n",
    "import pandas as pd\n",
    "import matplotlib.pyplot as plt\n",
    "from utils.evaluate_v2 import compute_f1"
   ]
  },
  {
   "cell_type": "markdown",
   "metadata": {},
   "source": [
    "# Read output file"
   ]
  },
  {
   "cell_type": "code",
   "execution_count": null,
   "metadata": {},
   "outputs": [],
   "source": [
    "def read_output_json(filepath: str):\n",
    "    \"\"\"Needed because these jsons are not really valid json files, but whatever.\"\"\"\n",
    "    output = []\n",
    "    with open(filepath, \"r\") as f:\n",
    "        line = f.readline()\n",
    "        while line != '':\n",
    "            output.append(json.loads(line))\n",
    "            line = f.readline()\n",
    "    return output"
   ]
  },
  {
   "cell_type": "code",
   "execution_count": null,
   "metadata": {},
   "outputs": [],
   "source": [
    "df_bert = pd.DataFrame(read_output_json('outputs/BT_output_2022.json'))\n",
    "df_roberta = pd.DataFrame(read_output_json('outputs/RB_output_2022.json'))\n",
    "df_bert_history = pd.DataFrame(read_output_json('outputs/BT_output_history_2022.json'))\n",
    "df_roberta_history = pd.DataFrame(read_output_json('outputs/RB_output_history_2022.json'))\n",
    "\n",
    "for df in [df_bert, df_roberta, df_bert_history, df_roberta_history]:\n",
    "    df['f1'] = [compute_f1(pred, lbl) for pred, lbl in zip(df['pred'], df['answer'])]\n",
    "    df['story_id'] = df.groupby('story').ngroup()"
   ]
  },
  {
   "cell_type": "markdown",
   "metadata": {},
   "source": [
    "# Analyze output"
   ]
  },
  {
   "cell_type": "code",
   "execution_count": null,
   "metadata": {},
   "outputs": [],
   "source": [
    "def print_answers(df, idx=0):\n",
    "    \"\"\"print the answers of the model\n",
    "\n",
    "    Parameters\n",
    "    ----------\n",
    "    df : pd.DataFrame\n",
    "        dataframe with the output results. Pass multiple dataframes to have more predicted answers.\n",
    "    idx : int, array or array-like\n",
    "        index of the stories to print. Pass None to print all the stories. Default is 0.\n",
    "    \"\"\"\n",
    "    stories = df['story'].unique()\n",
    "    if idx is not None:\n",
    "        stories = stories[idx]\n",
    "        if type(idx) is int:\n",
    "            stories = [stories]\n",
    "\n",
    "    for story in stories:\n",
    "        df2 = df.loc[df['story']==story].reset_index()\n",
    "\n",
    "        print(55*'=', 'Story', 60*'=')\n",
    "        print(df2['story'][0])\n",
    "\n",
    "        print()\n",
    "        print(50*'-', 'Question answering', 50*'-')\n",
    "        for i in df2.index:\n",
    "            print(\"Question:\\t\", df2['question'][i])\n",
    "            print(\"True answer:\\t\", df2['answer'][i])\n",
    "            print(\"Pred answer:\\t\", df2['pred'][i])\n",
    "            print(f\"F1 score: \\t {df2['f1'][i]:.2g}\")\n",
    "            print()"
   ]
  },
  {
   "cell_type": "code",
   "execution_count": null,
   "metadata": {},
   "outputs": [],
   "source": [
    "print_answers(df_bert, 2)"
   ]
  },
  {
   "cell_type": "code",
   "execution_count": null,
   "metadata": {},
   "outputs": [],
   "source": [
    "print_answers(df_roberta, 2)"
   ]
  },
  {
   "cell_type": "code",
   "execution_count": null,
   "metadata": {},
   "outputs": [],
   "source": [
    "print_answers(df_bert_history, 2)"
   ]
  },
  {
   "cell_type": "code",
   "execution_count": null,
   "metadata": {},
   "outputs": [],
   "source": [
    "print_answers(df_roberta_history, 2)"
   ]
  }
 ],
 "metadata": {
  "kernelspec": {
   "display_name": "Python 3.8.13 ('tensorflow')",
   "language": "python",
   "name": "python3"
  },
  "language_info": {
   "codemirror_mode": {
    "name": "ipython",
    "version": 3
   },
   "file_extension": ".py",
   "mimetype": "text/x-python",
   "name": "python",
   "nbconvert_exporter": "python",
   "pygments_lexer": "ipython3",
   "version": "3.8.13"
  },
  "orig_nbformat": 4,
  "vscode": {
   "interpreter": {
    "hash": "716c34c06793e5cf93c7b330bdfcb45c40eb89e5efd6d32b0d2191c531a6c3c3"
   }
  }
 },
 "nbformat": 4,
 "nbformat_minor": 2
}
