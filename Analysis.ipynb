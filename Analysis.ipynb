{
 "cells": [
  {
   "cell_type": "code",
   "execution_count": null,
   "metadata": {},
   "outputs": [],
   "source": [
    "import os\n",
    "import json\n",
    "import numpy as np\n",
    "import pandas as pd\n",
    "import matplotlib.pyplot as plt\n",
    "from utils.evaluate_v2 import compute_f1"
   ]
  },
  {
   "cell_type": "markdown",
   "metadata": {},
   "source": [
    "# Read output file"
   ]
  },
  {
   "cell_type": "code",
   "execution_count": null,
   "metadata": {},
   "outputs": [],
   "source": [
    "def read_output_json(filepath: str):\n",
    "    \"\"\"Needed because these jsons are not really valid json files, but whatever.\"\"\"\n",
    "    output = []\n",
    "    with open(filepath, \"r\") as f:\n",
    "        line = f.readline()\n",
    "        while line != '':\n",
    "            output.append(json.loads(line))\n",
    "            line = f.readline()\n",
    "    return output"
   ]
  },
  {
   "cell_type": "code",
   "execution_count": null,
   "metadata": {},
   "outputs": [],
   "source": [
    "folder = 'outputs/'\n",
    "dfs = {}\n",
    "for filename in os.listdir(folder):\n",
    "    # transform the filename from e.g. \"BT_output_42.json\" to the key \"bert_42\"\n",
    "    # transform the filename from e.g. \"BT_output_history_42.json\" to the key \"bert_history_42\"\n",
    "    key = filename.split('.')[0]\n",
    "    key = key.split('_')\n",
    "    name = 'bert' if key[0] == 'BT' else 'roberta'\n",
    "    key = '_'.join([name] + key[2:])\n",
    "\n",
    "    dfs[key] = pd.DataFrame(read_output_json(os.path.join(folder, filename)))\n"
   ]
  },
  {
   "cell_type": "code",
   "execution_count": null,
   "metadata": {},
   "outputs": [],
   "source": [
    "for df in dfs.values():\n",
    "    df['f1'] = [compute_f1(pred, lbl) for pred, lbl in zip(df['pred'], df['answer'])]\n",
    "    df['story_id'] = df.groupby('story').ngroup()"
   ]
  },
  {
   "cell_type": "markdown",
   "metadata": {},
   "source": [
    "# Analyze output"
   ]
  },
  {
   "cell_type": "code",
   "execution_count": null,
   "metadata": {},
   "outputs": [],
   "source": [
    "def print_answers(*df, idx=0):\n",
    "    \"\"\"print the answers of the model.\n",
    "\n",
    "    Parameters\n",
    "    ----------\n",
    "    df : pd.DataFrame\n",
    "        dataframe with the output results. Pass multiple dataframes to have more predicted answers.\n",
    "    idx : int, array or array-like\n",
    "        index of the stories to print. Pass None to print all the stories. Default is 0.\n",
    "    \"\"\"\n",
    "    stories = df[0]['story'].unique()\n",
    "    if idx is not None:\n",
    "        stories = stories[idx]\n",
    "        if type(idx) is int:\n",
    "            stories = [stories]\n",
    "\n",
    "    for story in stories:\n",
    "        df2 = [d.loc[d['story']==story].reset_index() for d in df]\n",
    "\n",
    "        print(55*'=', 'Story', 60*'=')\n",
    "        print(df2[0]['story'][0])\n",
    "\n",
    "        print()\n",
    "        print(50*'-', 'Question answering', 50*'-')\n",
    "        for i in df2[0].index:\n",
    "            print(\"\\nQuestion:\", ' '*3, df2[0]['question'][i])\n",
    "            print(\"True answer:\", ' '*4, df2[0]['answer'][i])\n",
    "            for j in range(len(df2)):\n",
    "                print(\"\\nPred answer:\", ' '*4, df2[j]['pred'][i])\n",
    "                print(\"F1 score:\", ' '*7, f\"{df2[j]['f1'][i]:.2g}\")\n",
    "            print()"
   ]
  },
  {
   "cell_type": "code",
   "execution_count": null,
   "metadata": {},
   "outputs": [],
   "source": [
    "print_answers(dfs['roberta_42'], dfs['roberta_2022'], dfs['roberta_1337'], idx=0)"
   ]
  },
  {
   "cell_type": "code",
   "execution_count": null,
   "metadata": {},
   "outputs": [],
   "source": [
    "print_answers(dfs['bert_42'], dfs['bert_history_42'], dfs['roberta_42'], dfs['roberta_history_42'], idx=100)"
   ]
  }
 ],
 "metadata": {
  "kernelspec": {
   "display_name": "Python 3.8.13 ('tensorflow')",
   "language": "python",
   "name": "python3"
  },
  "language_info": {
   "codemirror_mode": {
    "name": "ipython",
    "version": 3
   },
   "file_extension": ".py",
   "mimetype": "text/x-python",
   "name": "python",
   "nbconvert_exporter": "python",
   "pygments_lexer": "ipython3",
   "version": "3.8.13"
  },
  "orig_nbformat": 4,
  "vscode": {
   "interpreter": {
    "hash": "716c34c06793e5cf93c7b330bdfcb45c40eb89e5efd6d32b0d2191c531a6c3c3"
   }
  }
 },
 "nbformat": 4,
 "nbformat_minor": 2
}
